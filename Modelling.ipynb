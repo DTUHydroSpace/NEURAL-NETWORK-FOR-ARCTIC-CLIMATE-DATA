{
 "cells": [
  {
   "cell_type": "markdown",
   "id": "a24c05e5",
   "metadata": {},
   "source": [
    "# Special kursus"
   ]
  },
  {
   "cell_type": "markdown",
   "id": "9cc4f722",
   "metadata": {},
   "source": [
    "## Import of modules"
   ]
  },
  {
   "cell_type": "code",
   "execution_count": 1,
   "id": "57d95178",
   "metadata": {},
   "outputs": [
    {
     "name": "stderr",
     "output_type": "stream",
     "text": [
      "/zhome/ae/4/138518/Desktop/env/lib/python3.9/site-packages/geopandas/_compat.py:111: UserWarning: The Shapely GEOS version (3.9.1-CAPI-1.14.2) is incompatible with the GEOS version PyGEOS was compiled with (3.10.1-CAPI-1.16.0). Conversions between both will be slow.\n",
      "  warnings.warn(\n"
     ]
    }
   ],
   "source": [
    "import os\n",
    "os.environ[\"CUDA_DEVICE_ORDER\"]=\"PCI_BUS_ID\"   \n",
    "os.environ[\"CUDA_VISIBLE_DEVICES\"]=f'{0}'\n",
    "from __future__ import annotations\n",
    "\n",
    "import torch\n",
    "\n",
    "from modules import dataHandler, dataprocessing, models\n",
    "from modules import scalers as scaling\n",
    "\n",
    "%matplotlib inline\n",
    "%load_ext autoreload\n",
    "%autoreload 2"
   ]
  },
  {
   "cell_type": "code",
   "execution_count": 2,
   "id": "bb5fa942",
   "metadata": {
    "scrolled": true
   },
   "outputs": [
    {
     "name": "stdout",
     "output_type": "stream",
     "text": [
      "cuda 0\n"
     ]
    }
   ],
   "source": [
    "if torch.cuda.is_available():\n",
    "    device = torch.device(\"cuda\")\n",
    "    print(f\"cuda {torch.cuda.current_device()}\")\n",
    "else:\n",
    "    print(\"cpu\")\n",
    "    device = torch.device(\"cpu\")"
   ]
  },
  {
   "cell_type": "markdown",
   "id": "b86a288a",
   "metadata": {},
   "source": [
    "## Load data"
   ]
  },
  {
   "cell_type": "markdown",
   "id": "87600474",
   "metadata": {},
   "source": [
    "Loads all the different datasets: Regions, TS profiles, Bathymetri, GHRSST and SMOS.\\\n",
    "The TS profiles also gets cleaned and split into different regions"
   ]
  },
  {
   "cell_type": "code",
   "execution_count": 3,
   "id": "d1ed4fc2",
   "metadata": {},
   "outputs": [
    {
     "ename": "MissingConfigException",
     "evalue": "Primary config directory not found.\nCheck that the config directory '/zhome/ae/4/138518/Desktop/Special_kursus/modules/config' exists and readable",
     "output_type": "error",
     "traceback": [
      "\u001b[0;31m---------------------------------------------------------------------------\u001b[0m",
      "\u001b[0;31mMissingConfigException\u001b[0m                    Traceback (most recent call last)",
      "\u001b[0;32m/tmp/ipykernel_30840/1340429569.py\u001b[0m in \u001b[0;36m<module>\u001b[0;34m\u001b[0m\n\u001b[1;32m      5\u001b[0m     \u001b[0mghrsst_lat\u001b[0m\u001b[0;34m,\u001b[0m \u001b[0mghrsst_lon\u001b[0m\u001b[0;34m,\u001b[0m \u001b[0mghrsst_sst\u001b[0m\u001b[0;34m,\u001b[0m \u001b[0mghrsst_times\u001b[0m\u001b[0;34m,\u001b[0m \u001b[0mghrsst_fraction_time\u001b[0m\u001b[0;34m,\u001b[0m \u001b[0mghrsst_time_bnds\u001b[0m\u001b[0;34m,\u001b[0m\u001b[0;34m\u001b[0m\u001b[0;34m\u001b[0m\u001b[0m\n\u001b[1;32m      6\u001b[0m     \u001b[0msmos_sss\u001b[0m\u001b[0;34m,\u001b[0m \u001b[0msmos_time\u001b[0m\u001b[0;34m,\u001b[0m \u001b[0msmos_lat\u001b[0m\u001b[0;34m,\u001b[0m \u001b[0msmos_lon\u001b[0m\u001b[0;34m\u001b[0m\u001b[0;34m\u001b[0m\u001b[0m\n\u001b[0;32m----> 7\u001b[0;31m ) = dataHandler.load_all(verbose=True)\n\u001b[0m",
      "\u001b[0;32m~/Desktop/Special_kursus/modules/dataHandler.py\u001b[0m in \u001b[0;36mload_all\u001b[0;34m(verbose)\u001b[0m\n\u001b[1;32m    394\u001b[0m     \u001b[0;34m\"\"\" Loads all the data using hydra\"\"\"\u001b[0m\u001b[0;34m\u001b[0m\u001b[0;34m\u001b[0m\u001b[0m\n\u001b[1;32m    395\u001b[0m     \u001b[0;32mwith\u001b[0m \u001b[0minitialize\u001b[0m\u001b[0;34m(\u001b[0m\u001b[0mconfig_path\u001b[0m\u001b[0;34m=\u001b[0m\u001b[0;34m\"./config\"\u001b[0m\u001b[0;34m)\u001b[0m\u001b[0;34m:\u001b[0m\u001b[0;34m\u001b[0m\u001b[0;34m\u001b[0m\u001b[0m\n\u001b[0;32m--> 396\u001b[0;31m         \u001b[0mcfg\u001b[0m \u001b[0;34m=\u001b[0m \u001b[0mcompose\u001b[0m\u001b[0;34m(\u001b[0m\u001b[0mconfig_name\u001b[0m\u001b[0;34m=\u001b[0m\u001b[0;34m\"setup\"\u001b[0m\u001b[0;34m)\u001b[0m\u001b[0;34m\u001b[0m\u001b[0;34m\u001b[0m\u001b[0m\n\u001b[0m\u001b[1;32m    397\u001b[0m     \u001b[0;31m# Region\u001b[0m\u001b[0;34m\u001b[0m\u001b[0;34m\u001b[0m\u001b[0;34m\u001b[0m\u001b[0m\n\u001b[1;32m    398\u001b[0m     \u001b[0;32mif\u001b[0m \u001b[0mverbose\u001b[0m\u001b[0;34m:\u001b[0m\u001b[0;34m\u001b[0m\u001b[0;34m\u001b[0m\u001b[0m\n",
      "\u001b[0;32m~/Desktop/env/lib/python3.9/site-packages/hydra/compose.py\u001b[0m in \u001b[0;36mcompose\u001b[0;34m(config_name, overrides, return_hydra_config, strict)\u001b[0m\n\u001b[1;32m     31\u001b[0m     \u001b[0mgh\u001b[0m \u001b[0;34m=\u001b[0m \u001b[0mGlobalHydra\u001b[0m\u001b[0;34m.\u001b[0m\u001b[0minstance\u001b[0m\u001b[0;34m(\u001b[0m\u001b[0;34m)\u001b[0m\u001b[0;34m\u001b[0m\u001b[0;34m\u001b[0m\u001b[0m\n\u001b[1;32m     32\u001b[0m     \u001b[0;32massert\u001b[0m \u001b[0mgh\u001b[0m\u001b[0;34m.\u001b[0m\u001b[0mhydra\u001b[0m \u001b[0;32mis\u001b[0m \u001b[0;32mnot\u001b[0m \u001b[0;32mNone\u001b[0m\u001b[0;34m\u001b[0m\u001b[0;34m\u001b[0m\u001b[0m\n\u001b[0;32m---> 33\u001b[0;31m     cfg = gh.hydra.compose_config(\n\u001b[0m\u001b[1;32m     34\u001b[0m         \u001b[0mconfig_name\u001b[0m\u001b[0;34m=\u001b[0m\u001b[0mconfig_name\u001b[0m\u001b[0;34m,\u001b[0m\u001b[0;34m\u001b[0m\u001b[0;34m\u001b[0m\u001b[0m\n\u001b[1;32m     35\u001b[0m         \u001b[0moverrides\u001b[0m\u001b[0;34m=\u001b[0m\u001b[0moverrides\u001b[0m\u001b[0;34m,\u001b[0m\u001b[0;34m\u001b[0m\u001b[0;34m\u001b[0m\u001b[0m\n",
      "\u001b[0;32m~/Desktop/env/lib/python3.9/site-packages/hydra/_internal/hydra.py\u001b[0m in \u001b[0;36mcompose_config\u001b[0;34m(self, config_name, overrides, run_mode, with_log_configuration, from_shell)\u001b[0m\n\u001b[1;32m    557\u001b[0m         \"\"\"\n\u001b[1;32m    558\u001b[0m \u001b[0;34m\u001b[0m\u001b[0m\n\u001b[0;32m--> 559\u001b[0;31m         cfg = self.config_loader.load_configuration(\n\u001b[0m\u001b[1;32m    560\u001b[0m             \u001b[0mconfig_name\u001b[0m\u001b[0;34m=\u001b[0m\u001b[0mconfig_name\u001b[0m\u001b[0;34m,\u001b[0m\u001b[0;34m\u001b[0m\u001b[0;34m\u001b[0m\u001b[0m\n\u001b[1;32m    561\u001b[0m             \u001b[0moverrides\u001b[0m\u001b[0;34m=\u001b[0m\u001b[0moverrides\u001b[0m\u001b[0;34m,\u001b[0m\u001b[0;34m\u001b[0m\u001b[0;34m\u001b[0m\u001b[0m\n",
      "\u001b[0;32m~/Desktop/env/lib/python3.9/site-packages/hydra/_internal/config_loader_impl.py\u001b[0m in \u001b[0;36mload_configuration\u001b[0;34m(self, config_name, overrides, run_mode, from_shell)\u001b[0m\n\u001b[1;32m    139\u001b[0m     ) -> DictConfig:\n\u001b[1;32m    140\u001b[0m         \u001b[0;32mtry\u001b[0m\u001b[0;34m:\u001b[0m\u001b[0;34m\u001b[0m\u001b[0;34m\u001b[0m\u001b[0m\n\u001b[0;32m--> 141\u001b[0;31m             return self._load_configuration_impl(\n\u001b[0m\u001b[1;32m    142\u001b[0m                 \u001b[0mconfig_name\u001b[0m\u001b[0;34m=\u001b[0m\u001b[0mconfig_name\u001b[0m\u001b[0;34m,\u001b[0m\u001b[0;34m\u001b[0m\u001b[0;34m\u001b[0m\u001b[0m\n\u001b[1;32m    143\u001b[0m                 \u001b[0moverrides\u001b[0m\u001b[0;34m=\u001b[0m\u001b[0moverrides\u001b[0m\u001b[0;34m,\u001b[0m\u001b[0;34m\u001b[0m\u001b[0;34m\u001b[0m\u001b[0m\n",
      "\u001b[0;32m~/Desktop/env/lib/python3.9/site-packages/hydra/_internal/config_loader_impl.py\u001b[0m in \u001b[0;36m_load_configuration_impl\u001b[0;34m(self, config_name, overrides, run_mode, from_shell)\u001b[0m\n\u001b[1;32m    225\u001b[0m         \u001b[0;32mfrom\u001b[0m \u001b[0mhydra\u001b[0m \u001b[0;32mimport\u001b[0m \u001b[0m__version__\u001b[0m\u001b[0;34m\u001b[0m\u001b[0;34m\u001b[0m\u001b[0m\n\u001b[1;32m    226\u001b[0m \u001b[0;34m\u001b[0m\u001b[0m\n\u001b[0;32m--> 227\u001b[0;31m         \u001b[0mself\u001b[0m\u001b[0;34m.\u001b[0m\u001b[0mensure_main_config_source_available\u001b[0m\u001b[0;34m(\u001b[0m\u001b[0;34m)\u001b[0m\u001b[0;34m\u001b[0m\u001b[0;34m\u001b[0m\u001b[0m\n\u001b[0m\u001b[1;32m    228\u001b[0m         \u001b[0mcaching_repo\u001b[0m \u001b[0;34m=\u001b[0m \u001b[0mCachingConfigRepository\u001b[0m\u001b[0;34m(\u001b[0m\u001b[0mself\u001b[0m\u001b[0;34m.\u001b[0m\u001b[0mrepository\u001b[0m\u001b[0;34m)\u001b[0m\u001b[0;34m\u001b[0m\u001b[0;34m\u001b[0m\u001b[0m\n\u001b[1;32m    229\u001b[0m \u001b[0;34m\u001b[0m\u001b[0m\n",
      "\u001b[0;32m~/Desktop/env/lib/python3.9/site-packages/hydra/_internal/config_loader_impl.py\u001b[0m in \u001b[0;36mensure_main_config_source_available\u001b[0;34m(self)\u001b[0m\n\u001b[1;32m    127\u001b[0m                         )\n\u001b[1;32m    128\u001b[0m \u001b[0;34m\u001b[0m\u001b[0m\n\u001b[0;32m--> 129\u001b[0;31m                     self._missing_config_error(\n\u001b[0m\u001b[1;32m    130\u001b[0m                         \u001b[0mconfig_name\u001b[0m\u001b[0;34m=\u001b[0m\u001b[0;32mNone\u001b[0m\u001b[0;34m,\u001b[0m \u001b[0mmsg\u001b[0m\u001b[0;34m=\u001b[0m\u001b[0mmsg\u001b[0m\u001b[0;34m,\u001b[0m \u001b[0mwith_search_path\u001b[0m\u001b[0;34m=\u001b[0m\u001b[0;32mFalse\u001b[0m\u001b[0;34m\u001b[0m\u001b[0;34m\u001b[0m\u001b[0m\n\u001b[1;32m    131\u001b[0m                     )\n",
      "\u001b[0;32m~/Desktop/env/lib/python3.9/site-packages/hydra/_internal/config_loader_impl.py\u001b[0m in \u001b[0;36m_missing_config_error\u001b[0;34m(self, config_name, msg, with_search_path)\u001b[0m\n\u001b[1;32m    101\u001b[0m                 \u001b[0;32mreturn\u001b[0m \u001b[0mmsg\u001b[0m\u001b[0;34m\u001b[0m\u001b[0;34m\u001b[0m\u001b[0m\n\u001b[1;32m    102\u001b[0m \u001b[0;34m\u001b[0m\u001b[0m\n\u001b[0;32m--> 103\u001b[0;31m         raise MissingConfigException(\n\u001b[0m\u001b[1;32m    104\u001b[0m             \u001b[0mmissing_cfg_file\u001b[0m\u001b[0;34m=\u001b[0m\u001b[0mconfig_name\u001b[0m\u001b[0;34m,\u001b[0m \u001b[0mmessage\u001b[0m\u001b[0;34m=\u001b[0m\u001b[0madd_search_path\u001b[0m\u001b[0;34m(\u001b[0m\u001b[0;34m)\u001b[0m\u001b[0;34m\u001b[0m\u001b[0;34m\u001b[0m\u001b[0m\n\u001b[1;32m    105\u001b[0m         )\n",
      "\u001b[0;31mMissingConfigException\u001b[0m: Primary config directory not found.\nCheck that the config directory '/zhome/ae/4/138518/Desktop/Special_kursus/modules/config' exists and readable"
     ]
    }
   ],
   "source": [
    "(\n",
    "    regions,\n",
    "    ts_profiles,\n",
    "    bathymetri_lat, bathymetri_lon, bathymetri_topography,\n",
    "    ghrsst_lat, ghrsst_lon, ghrsst_sst, ghrsst_times, ghrsst_fraction_time, ghrsst_time_bnds,\n",
    "    smos_sss, smos_time, smos_lat, smos_lon\n",
    ") = dataHandler.load_all(verbose=True)"
   ]
  },
  {
   "cell_type": "code",
   "execution_count": null,
   "id": "59e22986",
   "metadata": {},
   "outputs": [],
   "source": [
    "ts_areas = dataprocessing.split_regions(ts_profiles, regions.set_crs(4326))"
   ]
  },
  {
   "cell_type": "markdown",
   "id": "75f2a273",
   "metadata": {},
   "source": [
    "## Creation of training, validation and testing datasets"
   ]
  },
  {
   "cell_type": "markdown",
   "id": "36bd82ec",
   "metadata": {},
   "source": [
    "The following code splits the dataset into 3 datasets (training, valdiation and testing).\\\n",
    "The data outside the ghrsst time is cut."
   ]
  },
  {
   "cell_type": "code",
   "execution_count": null,
   "id": "8e09ae6b",
   "metadata": {},
   "outputs": [],
   "source": [
    "min_time, max_time = min(ghrsst_fraction_time), max(ghrsst_fraction_time)\n",
    "training_end = 2012\n",
    "validation_end = 2015\n",
    "train, val, test, areas = dataprocessing.split_data_set(ts_areas, training_end, validation_end, min_time, max_time)"
   ]
  },
  {
   "cell_type": "markdown",
   "id": "4b962cb6",
   "metadata": {},
   "source": [
    "# Training"
   ]
  },
  {
   "cell_type": "markdown",
   "id": "521af855",
   "metadata": {},
   "source": [
    "Converts the dict objects into dataloaders containing torch tensors and scales each feature"
   ]
  },
  {
   "cell_type": "code",
   "execution_count": null,
   "id": "09fcd5a7",
   "metadata": {},
   "outputs": [],
   "source": [
    "scalers = [\n",
    "    scaling.MeanScaling, # lar\n",
    "    scaling.MeanScaling, # lon\n",
    "    scaling.MeanScaling, # year\n",
    "    scaling.MeanScaling, # decimal year\n",
    "    scaling.MeanScaling, # sss\n",
    "    scaling.MeanScaling, # sst\n",
    "    scaling.MeanScaling, # surface depth\n",
    "    scaling.MinMaxScaling, # bathymetri\n",
    "    scaling.MeanScaling, # salinity profile\n",
    "    scaling.MeanScaling, # temperature profile\n",
    "]\n",
    "\n",
    "scalers, train_loader, val_loader, test_loader = dataprocessing.process_data(\n",
    "    train=train,\n",
    "    val=val,\n",
    "    test=test,\n",
    "    bathymetri_lat=bathymetri_lat,\n",
    "    bathymetri_lon=bathymetri_lon,\n",
    "    bathymetri_topography=bathymetri_topography,\n",
    "    scalers= scalers\n",
    ")"
   ]
  },
  {
   "cell_type": "markdown",
   "id": "b5c471ae",
   "metadata": {},
   "source": [
    "Trains the model and saves it"
   ]
  },
  {
   "cell_type": "code",
   "execution_count": null,
   "id": "32944897",
   "metadata": {},
   "outputs": [],
   "source": [
    "training_loss, validation_loss = models.train_model(train_loader, val_loader)"
   ]
  }
 ],
 "metadata": {
  "kernelspec": {
   "display_name": "Python 3 (ipykernel)",
   "language": "python",
   "name": "python3"
  },
  "language_info": {
   "codemirror_mode": {
    "name": "ipython",
    "version": 3
   },
   "file_extension": ".py",
   "mimetype": "text/x-python",
   "name": "python",
   "nbconvert_exporter": "python",
   "pygments_lexer": "ipython3",
   "version": "3.9.6"
  }
 },
 "nbformat": 4,
 "nbformat_minor": 5
}
